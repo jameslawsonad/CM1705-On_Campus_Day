{
 "cells": [
  {
   "cell_type": "code",
   "execution_count": null,
   "id": "4cdf9770-2e13-4119-a670-9d6af3faedd4",
   "metadata": {},
   "outputs": [],
   "source": [
    "1 + 1"
   ]
  },
  {
   "cell_type": "code",
   "execution_count": null,
   "id": "aab19761-6e05-482f-adcb-982c73fd698c",
   "metadata": {},
   "outputs": [],
   "source": [
    "42 * 10"
   ]
  },
  {
   "cell_type": "code",
   "execution_count": null,
   "id": "a44d5850-93e3-4bc6-9ec1-8f1406b27c96",
   "metadata": {},
   "outputs": [],
   "source": [
    "for i in range(10):\n",
    "    print(\"hello there\", i)"
   ]
  },
  {
   "cell_type": "code",
   "execution_count": null,
   "id": "e45aad76-1c0c-4663-b548-d0bdd0ea32c1",
   "metadata": {},
   "outputs": [],
   "source": []
  }
 ],
 "metadata": {
  "kernelspec": {
   "display_name": "Python 3 (ipykernel)",
   "language": "python",
   "name": "python3"
  },
  "language_info": {
   "codemirror_mode": {
    "name": "ipython",
    "version": 3
   },
   "file_extension": ".py",
   "mimetype": "text/x-python",
   "name": "python",
   "nbconvert_exporter": "python",
   "pygments_lexer": "ipython3",
   "version": "3.12.4"
  }
 },
 "nbformat": 4,
 "nbformat_minor": 5
}
